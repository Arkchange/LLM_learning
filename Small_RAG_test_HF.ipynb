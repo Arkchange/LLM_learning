{
 "cells": [
  {
   "cell_type": "code",
   "execution_count": null,
   "metadata": {
    "id": "IVqTj4-VqCCC"
   },
   "outputs": [],
   "source": [
    "!pip install pyPDF2\n",
    "!pip install faiss-cpu\n",
    "!pip install sentence_transformers\n",
    "!pip install -U langchain-community\n",
    "!pip install huggingface_hub"
   ]
  },
  {
   "cell_type": "code",
   "execution_count": null,
   "metadata": {
    "id": "b3gVIt4ZtPAb"
   },
   "outputs": [],
   "source": [
    "import os\n",
    "\n",
    "MYHFKEY = \"key\"\n",
    "os.environ[\"HUGGINGFACEHUB_API_TOKEN\"] = MYHFKEY"
   ]
  },
  {
   "cell_type": "code",
   "execution_count": null,
   "metadata": {
    "id": "rFeJkrI4tPHL"
   },
   "outputs": [],
   "source": [
    "from PyPDF2 import PdfReader\n",
    "from langchain.text_splitter import CharacterTextSplitter\n",
    "from langchain.vectorstores import FAISS\n",
    "from langchain.chains.question_answering import load_qa_chain\n",
    "from langchain import HuggingFaceHub, PromptTemplate, LLMChain\n",
    "from langchain.embeddings import HuggingFaceEmbeddings\n",
    "from transformers import pipeline\n",
    "from langchain.llms import HuggingFacePipeline\n",
    "import os"
   ]
  },
  {
   "cell_type": "code",
   "execution_count": null,
   "metadata": {
    "colab": {
     "base_uri": "https://localhost:8080/",
     "height": 54
    },
    "id": "Xudv9F86tPKZ",
    "outputId": "e742d57d-a25e-4d25-cbdb-efad8cc80653"
   },
   "outputs": [],
   "source": [
    "pipe = pipeline(\"text2text-generation\", model=\"google/flan-t5-large\", max_new_tokens=100)\n",
    "\n",
    "template = \"\"\" {question}\"\"\"\n",
    "prompt_template = PromptTemplate.from_template(template)\n",
    "llm = HuggingFacePipeline(pipeline=pipe)\n",
    "chain = prompt_template | llm\n",
    "myQuery = \"In how many movies benoit cayla played ?\"\n",
    "chain.invoke(myQuery)"
   ]
  },
  {
   "cell_type": "code",
   "execution_count": null,
   "metadata": {
    "colab": {
     "base_uri": "https://localhost:8080/",
     "height": 92
    },
    "id": "9_HEEEFtuVfR",
    "outputId": "21396505-f756-49c6-bb3f-a78c39bbd898"
   },
   "outputs": [],
   "source": [
    "llm(\"What Benoit is doing now ?\")"
   ]
  },
  {
   "cell_type": "code",
   "execution_count": null,
   "metadata": {
    "colab": {
     "base_uri": "https://localhost:8080/"
    },
    "id": "o9HcXpi_uVX6",
    "outputId": "ec7e2e4a-f2ba-40ea-93aa-b2db29463098"
   },
   "outputs": [],
   "source": [
    "!wget https://raw.githubusercontent.com/datacorner/les-tutos-datacorner.fr/master/datasources/fakeinfos.pdf"
   ]
  },
  {
   "cell_type": "code",
   "execution_count": null,
   "metadata": {
    "id": "M4NTWSqvuVVy"
   },
   "outputs": [],
   "source": [
    "newData = PdfReader(\"/content/fakeinfos.pdf\")\n",
    "allcontent = \"\"\n",
    "for i, page in enumerate(newData.pages):\n",
    "  content = page.extract_text()\n",
    "  if content:\n",
    "    allcontent += content"
   ]
  },
  {
   "cell_type": "code",
   "execution_count": null,
   "metadata": {
    "colab": {
     "base_uri": "https://localhost:8080/"
    },
    "id": "Wdwcpf8duVTe",
    "outputId": "682eedfa-1d75-461d-9291-1267f285dbe5"
   },
   "outputs": [],
   "source": [
    "print(allcontent)"
   ]
  },
  {
   "cell_type": "code",
   "execution_count": null,
   "metadata": {
    "colab": {
     "base_uri": "https://localhost:8080/"
    },
    "id": "-GffbEAKx1WN",
    "outputId": "14f801bf-46c2-41ba-e6d8-3e8a78c8d85e"
   },
   "outputs": [],
   "source": [
    "from langchain.text_splitter import RecursiveCharacterTextSplitter\n",
    "\n",
    "text_splitter = RecursiveCharacterTextSplitter(chunk_size = 200,\n",
    "                                              chunk_overlap = 20,\n",
    "                                              length_function = len,\n",
    "                                               separators=[\"\\n\\n\", \"\\n\", \".\", \" \", \"\"])\n",
    "finalAllcontent = text_splitter.split_text(allcontent)\n",
    "finalAllcontent"
   ]
  },
  {
   "cell_type": "code",
   "execution_count": null,
   "metadata": {
    "colab": {
     "base_uri": "https://localhost:8080/",
     "height": 462,
     "referenced_widgets": [
      "f49e660ee38f4acdbb38f396f19702ab",
      "56a8ef25801047dda2e56b3fe8e10685",
      "0afd200dcc6e4246b0940c447eee98f1",
      "75775369f184450cbba7f5f73e67dcae",
      "b131f5b762df46729dcaa74b23373fb2",
      "1d0964bb8683487c9442aa711f9b87b9",
      "95d9c97a586e4e2e87ff398d14109932",
      "b2cbd687d8634941bb8fbe45a6778452",
      "41f3a13d6c254cd9bf615f3a890fe2c4",
      "c63264613c91448bba405e0713a6567a",
      "044445ec09d446628e8a61014bb5a791",
      "1ed11ec539d84a71a7c237804000ef79",
      "4a6514b6869c44e495912dd08688b091",
      "451943ef32c44680ba58acf1cc729518",
      "497caa2503b04d43a1aaeb4ac097fcf5",
      "8bc04e176df8433eba75e2d306cba29c",
      "edfa71aca3bd4125a89557cac208ccca",
      "8da8451c71034349a68a1273e3ae34b2",
      "87030fa964b74bada62178f009045e0a",
      "669873602f5d44e790a3c4e193938511",
      "3b6b1b0cb98546e59bc5b5091c59ada7",
      "7e232bce25044254b400b3ad3573f7f7",
      "dadf29b33ab244b780d406f2b4b2f05f",
      "60680b2c11b346ae979d932df71760a0",
      "6d3c46283a1c4b588dc1174fc27a29af",
      "a55e5beb97cd474c8bac7d753b617127",
      "31ca3a33a1b84f10bacb5ea18fb6685e",
      "8f160fc076c64a0795e84607ac258d24",
      "1b91a4a61dfa437899c560bf6e4ed44c",
      "c73bbbc0e27e459abc86c3a68428c44b",
      "ddf43819f4aa425bbf6f1b67a36b49f7",
      "a2297fa0e3fd429bb80e3ad7e0f76e86",
      "3f1bb5c65af449bfa2968cc3d9761220",
      "78c4d923614a4255b0a81f4f7a4d0893",
      "9ecaa9ee2bce460aa97f263d0e0c0c09",
      "4b423387e376440f94620c8b76befaef",
      "2fa23d73bb0f4bbf84628242ec36365e",
      "3b63d11ca43549d7a4957f0f64915a1a",
      "5b7d91717884431ca1f1c751adbaba39",
      "6624f3ece9ad4aed8dcd3933c6dca15d",
      "eb50246d641c45d9a59e9711189b69e7",
      "d651e489170349c29d36d71d105d73ba",
      "5006bb9afe3c43d98960fddfc5bd1a52",
      "040814c320814837b8718c46461553cf",
      "a58a629882e842ec821a52294c9e2650",
      "e1e28decc7fb4af9a264c05bf685c060",
      "2869637efbe84176a6a28e010700c63d",
      "f0d7f6c3c597489099189854ad8047f3",
      "1f40204171804b909f77319ec8927eff",
      "5a4653478bb0465186dc5ce13282eb91",
      "db3d642e726d492eb46edb346d9cefce",
      "aeaf3c419f0f4574bfb1ff92f04a2d4a",
      "587c546607f74e379babe3921c2c80b7",
      "4533a79bc8234e5faf5af2fa357d6bd5",
      "7e9fdbed33504eb486c6f9d0b7b3af1f",
      "a26102f8a7f64c48b3c0f5930b236719",
      "f190b0819b1f411e9db134bd7bf463b5",
      "af9f52262b334755be5e48d7a26c4188",
      "b9626bbc140d46e28341a78913177b78",
      "1b4ababbd85e4080be4cccf229b96655",
      "3cfbde4e1f8e40a189bdbc848cf2814d",
      "5334fdb323d7411e89daa89bbc0364a1",
      "2ec435e56d6c4b41b70b825c0841845b",
      "537a76741557449b809612dd2a2822ff",
      "b408f94d2379481c8a97d5ee428922aa",
      "cc59af3aa1884890a77125cd2c3ec019",
      "3295f6a02a374aeb91a17065a1c62ba0",
      "3480905b558947479c2e1a58db83d473",
      "d0cfa073848843b9a174a35a0900a1bf",
      "a80898c038884070a21601e05e727a76",
      "04df51096bc94fc985af75cdc9dda498",
      "1f856b1d7f6a40bfb43254b11bde5eb4",
      "2a5ef5260f0941e1a8b1ecb99dc6c136",
      "949df2ec59064080a65df744ee5a1fa5",
      "d89eb5cf3343434fbe2e3db9b9ee2c30",
      "2892b5e762ba45d29ec0a5bfec06c3b6",
      "937524ce8d634ea1909a16b192ec06c6",
      "b582c5a954c6458a94c254e8b4e7c74d",
      "2d1043e91d3d4510a1b5e3d347552ed7",
      "7ec9118ad04d48cabe0f44b6be56ea6c",
      "b4057ba7f8f74518a44ccbcc40d37514",
      "c7ae8145106b4f14972a9eb6f31922f6",
      "e2a7c3a1b5f54e24bb23cdfb0477bb72",
      "1fcfb51c407242df9455242351f7c8aa",
      "cb3dd5925b654bee9fe4c0eaf278f895",
      "2b18ddd951214ad9ab56e50a4c4b4042",
      "ec30f3a219e24df3a6d86732e670b54f",
      "e7a371b5a38149c69192de7bbf3e3595",
      "4b1d355a9a16437fa96be433e4d95532",
      "4813e2660d0e4c0d874d4d8f9ebbbea8",
      "95211cb9788e49428939f1e9a06699ab",
      "08b1c8555c174a20bb5586d9272d58e4",
      "5b63e771f0114324897e187dbdadb6ea",
      "21314f740dc84a0fbee820673173a1c0",
      "bc83c964d7404b528e422beca05fc074",
      "25dd80e70a1946228dad16dd8fc71af2",
      "c1edc2fe97bc4c53a70eebfbdf255e1c",
      "d0fbfbd1168542e9876f4ec8cc6ebb9c",
      "0c2e9161934c4fb79a7fd234db79ef85",
      "8b35eacd109a4578bd2c5a5443a5f94b",
      "acd882c489c14bba8213592bfebd5f83",
      "4c37635404dd40f0b02d93778cf3fea7",
      "bc1921008555485d8bc438ae1bad1122",
      "bbe2dc03583648818369c74cb6384606",
      "4ae695194a684607adee01e4559c3ff5",
      "6ce85fb7fc4343d0a38d8489762bf90f",
      "f13c24184f724e4aa6cc89d1b25b56f6",
      "3af701c0b87e4c2eb7574cba3effc3ba",
      "f8f251f6f4904a519f2974c051eda8d2",
      "dfb73cd096dc4e139b0aaee8a8133c71",
      "d3127d9460ce471cb30fc12a14e77405",
      "b64710cf06f440eb800753b78eaf1a2c",
      "cf6812c5555240bba1ff6e98c3b79ce1",
      "2917dc7280fe4b9ba298a818650cbfca",
      "112db1f2eb43434bb99eca807bd9213c",
      "cd6bdc4d342a449889f8760943936c31",
      "708d21358bea4040977712471682b6de",
      "6a06258e26d149eb980b4adbb50971a5",
      "d290b5646e3d45249fdcd5f4589133e4",
      "81a1fb234a8a43069f0e06436ad27dd4",
      "5b7fb1b1c9e1407b8b63cd447c5ebd77"
     ]
    },
    "id": "eyrWEQJKx1T-",
    "outputId": "b1c0bfae-9f86-4b73-af54-5527fce727a9"
   },
   "outputs": [],
   "source": [
    "embeddings = HuggingFaceEmbeddings()"
   ]
  },
  {
   "cell_type": "code",
   "execution_count": null,
   "metadata": {
    "colab": {
     "base_uri": "https://localhost:8080/",
     "height": 201
    },
    "id": "AY2crq8Kx1R6",
    "outputId": "f3a64317-0664-465c-d108-034c53924649"
   },
   "outputs": [],
   "source": [
    "docSearch = FAISS.from_texts(finalAllcontent, embeddings)\n",
    "newChain = load_qa_chain(llm, chain_type=\"stuff\")\n",
    "docs = docSearch.similarity_search(myQuery)\n",
    "newChain.run(input_documents=docs, question=myQuery)"
   ]
  },
  {
   "cell_type": "code",
   "execution_count": null,
   "metadata": {
    "colab": {
     "base_uri": "https://localhost:8080/",
     "height": 36
    },
    "id": "h3WNinrFy-OP",
    "outputId": "0410165d-5f1d-43f1-898f-f2c59df64c64"
   },
   "outputs": [],
   "source": [
    "newChain.run(input_documents=docs, question=\"What Benoit is doing now ?\")"
   ]
  }
 ],
 "metadata": {
  "colab": {
   "provenance": []
  },
  "kernelspec": {
   "display_name": "Python 3",
   "name": "python3"
  },
  "language_info": {
   "name": "python"
  }
 },
 "nbformat": 4,
 "nbformat_minor": 0
}

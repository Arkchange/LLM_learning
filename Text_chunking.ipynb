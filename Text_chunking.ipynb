{
 "cells": [
  {
   "cell_type": "markdown",
   "metadata": {
    "id": "ezCGpaNGXdEJ"
   },
   "source": [
    "# Packages"
   ]
  },
  {
   "cell_type": "code",
   "execution_count": null,
   "metadata": {
    "colab": {
     "base_uri": "https://localhost:8080/"
    },
    "id": "zypChyaFVNQb",
    "outputId": "985173ef-817f-4f3f-a591-e91e67a76ea9"
   },
   "outputs": [],
   "source": [
    "!pip install langchain\n",
    "!pip install --quiet langchain_experimental langchain_openai\n",
    "!pip install sentence-transformers\n",
    "!pip install --upgrade --quiet langchain-text-splitters tiktoken"
   ]
  },
  {
   "cell_type": "code",
   "execution_count": null,
   "metadata": {
    "colab": {
     "base_uri": "https://localhost:8080/"
    },
    "id": "mZ54NKvQVSxe",
    "outputId": "73f45709-0488-4b6f-c734-eb7741099536"
   },
   "outputs": [],
   "source": [
    "!wget https://huggingface.co/datasets/rewoo/sotu_qa_2023/raw/main/state_of_the_union.txt"
   ]
  },
  {
   "cell_type": "markdown",
   "metadata": {
    "id": "UN9Gk3UhXkV8"
   },
   "source": [
    "# Chunk split"
   ]
  },
  {
   "cell_type": "code",
   "execution_count": null,
   "metadata": {
    "id": "oBlzSx6nVS-K"
   },
   "outputs": [],
   "source": [
    "from langchain.text_splitter import CharacterTextSplitter\n",
    "import matplotlib.pyplot as plt\n",
    "from langchain_experimental.text_splitter import SemanticChunker\n",
    "from langchain_community.embeddings import HuggingFaceEmbeddings"
   ]
  },
  {
   "cell_type": "code",
   "execution_count": null,
   "metadata": {
    "id": "D8jSD1X3VTAa"
   },
   "outputs": [],
   "source": [
    "with open((\"state_of_the_union.txt\")) as f:\n",
    "  text = f.read()\n",
    "\n",
    "text_splitter = CharacterTextSplitter(\n",
    "    separator = \"\\n\\n\",\n",
    "    chunk_size = 350,\n",
    "    chunk_overlap = 50,\n",
    "    length_function = len,\n",
    "    is_separator_regex= False)\n",
    "\n",
    "docs = text_splitter.create_documents([text])"
   ]
  },
  {
   "cell_type": "code",
   "execution_count": null,
   "metadata": {
    "colab": {
     "base_uri": "https://localhost:8080/"
    },
    "id": "Fi0c9UdMVTC4",
    "outputId": "cacc101c-0db0-4f1e-f36a-35316f3a8c4c"
   },
   "outputs": [],
   "source": [
    "print(docs[3].page_content)"
   ]
  },
  {
   "cell_type": "code",
   "execution_count": null,
   "metadata": {
    "colab": {
     "base_uri": "https://localhost:8080/"
    },
    "id": "MjDVW_wyVTFu",
    "outputId": "139d73e5-13b2-4105-c0c1-bf2c9461963f"
   },
   "outputs": [],
   "source": [
    "len(docs)"
   ]
  },
  {
   "cell_type": "code",
   "execution_count": null,
   "metadata": {
    "colab": {
     "base_uri": "https://localhost:8080/"
    },
    "id": "PUzh1m3NVTI3",
    "outputId": "388f0855-88b7-434e-d529-0f94842e19d4"
   },
   "outputs": [],
   "source": [
    "for i, item in enumerate(docs):\n",
    "  print(f\"Chund N_{i} → {len(item.page_content)}\")"
   ]
  },
  {
   "cell_type": "code",
   "execution_count": null,
   "metadata": {
    "colab": {
     "base_uri": "https://localhost:8080/",
     "height": 448
    },
    "id": "Nr319v4tZRP_",
    "outputId": "66016274-b066-469c-8299-bb40b958d98a"
   },
   "outputs": [],
   "source": [
    "Y = [len(y.page_content) for y in docs]\n",
    "plt.bar(range(len(docs)), Y, color = \"b\")"
   ]
  },
  {
   "cell_type": "markdown",
   "metadata": {
    "id": "WLWI1DevZgGa"
   },
   "source": [
    "#Semantic Chunk"
   ]
  },
  {
   "cell_type": "code",
   "execution_count": null,
   "metadata": {
    "colab": {
     "base_uri": "https://localhost:8080/",
     "height": 534,
     "referenced_widgets": [
      "b3baa4f2c7054fb4a8be8b52b2578e21",
      "27e9f25e89c140e3ac5271959381e23f",
      "34c6947a3c914972927d72b473e0c2ac",
      "0cb57c6c2cbb4842a6ef8e4ce584e5a4",
      "c3e7bd34159f4d61b26e561c11c5b3b8",
      "481ff620a2c84e11a53b92a2e79d2157",
      "73700dcdb9e5475e861b3a5ad6e8a297",
      "3522e61a5b1b438787f1b7fc37d33d72",
      "e33cbbd0f92e44bdb6c8546689d1b51c",
      "e56336ac229d4eec8ff19a464654f30f",
      "cf6b627f30684cfd9667e280fd0cc6fe",
      "7a86ed2c24e64721a902d4a1c985d1d2",
      "e05e2eb1174945ef99c28a7ca9efe3c6",
      "c5fc6635f03f4d0f942fbd4bcaf48411",
      "b6900cffe675499192dc4ebf613247cc",
      "bd23bad6bd0347c481329246c7a107b3",
      "d1e9aa321c894a93bac5cfd32845614d",
      "75c946e05a704f1b9304ce7dc3c967ea",
      "c4959d196bfe4e06a9f80d90639d9c72",
      "f6395be7935c4ff2bb007c6f13ed146d",
      "ec97dfe8d85947a29eb128d34c81c092",
      "a65cd20eabd746f2932315f9fa9b0b96",
      "ba7ad76a25124173ba89a790e5172588",
      "3022ed7f211242fe873a5f96c6222453",
      "9627d71f4a9b4785acc397da80555ea5",
      "2e1c57cbbf39488cb8f4ab6bbfaa76f9",
      "00baf7c0f8b64a749d2c20f1202da8f3",
      "b4591d2abd134cb2bef993ded696ebea",
      "e9fc073a5d0a48cfaf88cd3a1d63936f",
      "ee0556b0fb0a4a1280dcbff952e1436a",
      "55ebb9e63d6146fd99e506183f7cdcb1",
      "777575040de74878b338c46a90fc245c",
      "1f2fc59e09b1423e9abb91aa46a4e565",
      "8e8ccbe8a970401fbf40c629cee80326",
      "d650faaf38eb40ab9bf0da58811cea26",
      "f25874e688be4740b6f059d36429e2e8",
      "1ca992adcc1347bba8dbd703b5be37b9",
      "8a2409f059e64a728a51f63f964e6b6d",
      "46e69c6d7e5a49b8b372bdcee3472735",
      "6fb423cfd9a74d17b3ee4e2d35a08e8e",
      "5aa7cc8428944d0c94ac3fc4da62877e",
      "3be9232b0d1944749ce7850d191e6fdb",
      "276ede4009ac4df48b73274f294ad53e",
      "3a710b927080437cbf82059ad36afa63",
      "0a72a4b87aef407eae91de94e951bce9",
      "342f1d9d6d79462193a87fcd12f2a9a0",
      "c56cf74a7e9c4bf3b0e362660c787d83",
      "1bd4f46ae5484222af0fb9b0e2273590",
      "74fdef9bffea4ccdbfb80467509b8fec",
      "bbed047477e242dd8734dd4a8c8120bd",
      "548e0f7976ea41b982fc49d889026c5a",
      "bce74a3ba1834c57aa7df02221421a81",
      "fda51e6a40df4d75a1ba9daf20d10b4c",
      "196a96427dd945d4ae33f34168c34b1f",
      "c3ef615688bc49d0ae5f1e7f2149557b",
      "6dbab60360ce4c4996c60533b6b29be8",
      "8d0fe02307104a15b2c4d012c13475de",
      "4322d8f04dcb4d4590311fad723dc51e",
      "53338ccdaced48b7ba4f72c26cf2481f",
      "b77b6b163447406db68fe17bed3b1d38",
      "66d5400e74ec41a9ad6067e8c1666b6d",
      "f59188189ce043f1abcc8a89f33be4aa",
      "7436b49a9e504ef381194facd3f54eff",
      "42a3675b40914508a77f1ef80e43c861",
      "5b6cbd28f34f446988ef0e3f45e264c7",
      "e90b481e9fff4436b197d3cad303953a",
      "d1d7450f62b240b3bdfc18f0f97932da",
      "5681aad277ed4a9f958514e36046449a",
      "3b9d752411ed4e34b9f0db55af5aa524",
      "522e5665769945cfb73ff74cb6734921",
      "156549b153214ac0b25f2c36854dcb80",
      "a20ca2b85a074c028d1bd73c985cbe9f",
      "a936b789257649c89534062d378b5aae",
      "b390d4f8bb234322b31bdfa976282fb7",
      "b1716ff70c93411488619f7222fcd6c6",
      "96d3e05c878a42ef96e9b5d2ceff46c4",
      "1f3be5c75afd42488232859176df8a44",
      "05dd462fbb424f36adc6d3393988c302",
      "b968baed5fb246f6918bf8633b0ab430",
      "0c8b018e2aee4326bfd185c81f481725",
      "2a4a5af3b58c47d1890197daf59634b7",
      "1cf2b140ae4044c19aea68c78a031cb5",
      "113721adc6b4480cafeb9fbc399cf746",
      "2ca86f40c24941ccb7446a3c162519c5",
      "b844a275e52b494cbb11e6e917ab227a",
      "2d7f69147d8543908da44159ce897f58",
      "b711423cf9b745b3a56cf00e8d895388",
      "99aee00d3ffd41b69d9444a117b1d495",
      "4578dd81d7644397a3972b944bbfd51f",
      "f6611b47c5394531b1e26bbbd87dbfb8",
      "6f6030c27ab14f47a3cfb0ee7eb29922",
      "47427efba3e0401fa377a62436a70117",
      "2e530ef9558a4d86b3bc280f7c3fba2d",
      "33c57349842040a1af8288b393309900",
      "d275c9c7b4354a3485b3d90c8d8ef667",
      "33d3ac6825d7401c8fa791246f41de58",
      "e2e24108ece64904abc506e1edfcb675",
      "275fabb0f26747b6a97836aa05c1b3f7",
      "6226a4ddb88b4cbea9bc16b1b3b4d094",
      "6c6c598e3a7346a09570c13d399b5c9d",
      "4985983e9d18499a9f68fba8eac49b1a",
      "9347723c52f646cc89b7a68df74b87a6",
      "7b67e56606ea499ab7e26c04956bc3af",
      "ecfb935f3f5d49748b1b403b051d6a9e",
      "90185aedf5bb4f84b6c9bf0c7ed33cfe",
      "d8fe41e74d1f4636945b867196bb2456",
      "fa1f973f83904795abb3dd80edc3ee8b",
      "ac9a771375d9422fa9ecc5a94e8da498",
      "f12d5476d7864de9a3ba34ea007ff4ef",
      "66a2016cc4a94a9c903bf9f47f1c552c",
      "4e825e062ca844a489327c326eb30a1e",
      "57d06a39473e4d5bab6487ed87b9f6af",
      "85643d12f71f4e439d400cd16811c8a9",
      "f560599220304f07998b3d1097ff52c7",
      "bd5ca7c8ae824c3d933a0ccba8a69a16",
      "f45a8957b17144b3b3d2b220a12ae496",
      "6f3e804380b340308407c1b173727d43",
      "8427c59dfaa24a9d91abc2b1e5f40ee1",
      "780916eebf91460f843965b9413aab15",
      "89c5e3bdd5bb4b8eb772b4e1ce0dfc8b",
      "8f5073a703874d8a95dcc34961ef29e2"
     ]
    },
    "id": "PZnW1DM1ZRNi",
    "outputId": "2fdbf673-7713-475a-a614-9118bf238ec5"
   },
   "outputs": [],
   "source": [
    "hf_embeddings = HuggingFaceEmbeddings(model_name=\"sentence-transformers/all-mpnet-base-v2\",\n",
    "                                      model_kwargs={'device': 'cpu'},\n",
    "                                      encode_kwargs={'normalize_embeddings': False})\n",
    "text_splitter = SemanticChunker(hf_embeddings)\n",
    "docs = text_splitter.create_documents([text])"
   ]
  },
  {
   "cell_type": "code",
   "execution_count": null,
   "metadata": {
    "colab": {
     "base_uri": "https://localhost:8080/"
    },
    "id": "hXmOqpoCZRLT",
    "outputId": "3802f44b-0cef-40d9-9032-165eb868d9d7"
   },
   "outputs": [],
   "source": [
    "len(docs)"
   ]
  },
  {
   "cell_type": "code",
   "execution_count": null,
   "metadata": {
    "colab": {
     "base_uri": "https://localhost:8080/",
     "height": 90
    },
    "id": "IDxDjbXDZRI4",
    "outputId": "e986ffae-a8a9-4a41-80e6-a1c318a40deb"
   },
   "outputs": [],
   "source": [
    "docs[1].page_content"
   ]
  },
  {
   "cell_type": "code",
   "execution_count": null,
   "metadata": {
    "colab": {
     "base_uri": "https://localhost:8080/"
    },
    "id": "nUzK5kHqZRGh",
    "outputId": "b447c31b-8b59-4263-ad0a-e232d759df66"
   },
   "outputs": [],
   "source": [
    "for i, item in enumerate(docs):\n",
    "    print(f\"Chunk N°{i} -> {len(item.page_content)}\")"
   ]
  },
  {
   "cell_type": "markdown",
   "metadata": {
    "id": "9Y19sR-Ie5S2"
   },
   "source": [
    "# Token Chunk"
   ]
  },
  {
   "cell_type": "code",
   "execution_count": null,
   "metadata": {
    "id": "5lGVbTZRZREF"
   },
   "outputs": [],
   "source": [
    "text_splitter = CharacterTextSplitter.from_tiktoken_encoder(\n",
    "    chunk_size = 1000,\n",
    "    chunk_overlap = 100)\n",
    "\n",
    "docs = text_splitter.split_text(text)"
   ]
  },
  {
   "cell_type": "code",
   "execution_count": null,
   "metadata": {
    "colab": {
     "base_uri": "https://localhost:8080/",
     "height": 448
    },
    "id": "QZWAOFsqZQ3p",
    "outputId": "b37f8ac3-6048-4cee-f745-90a01b966d35"
   },
   "outputs": [],
   "source": [
    "Y = [len(y) for y in docs]\n",
    "plt.bar(range(len(docs)), Y, color = \"b\")"
   ]
  },
  {
   "cell_type": "markdown",
   "metadata": {},
   "source": [
    "Les 3 sont différents mais la 1ère est pas très adapté pour les gros textes alors que les deux autres mieux."
   ]
  }
 ],
 "metadata": {
  "colab": {
   "collapsed_sections": [
    "ezCGpaNGXdEJ",
    "UN9Gk3UhXkV8",
    "WLWI1DevZgGa",
    "9Y19sR-Ie5S2"
   ],
   "provenance": []
  },
  "kernelspec": {
   "display_name": "Python 3",
   "name": "python3"
  },
  "language_info": {
   "name": "python"
  }
 },
 "nbformat": 4,
 "nbformat_minor": 0
}
